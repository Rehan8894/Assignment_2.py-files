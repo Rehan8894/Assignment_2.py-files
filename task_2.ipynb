{
  "nbformat": 4,
  "nbformat_minor": 0,
  "metadata": {
    "colab": {
      "provenance": [],
      "authorship_tag": "ABX9TyN8pJKQrPMjumrMOOQvZOAY",
      "include_colab_link": true
    },
    "kernelspec": {
      "name": "python3",
      "display_name": "Python 3"
    },
    "language_info": {
      "name": "python"
    }
  },
  "cells": [
    {
      "cell_type": "markdown",
      "metadata": {
        "id": "view-in-github",
        "colab_type": "text"
      },
      "source": [
        "<a href=\"https://colab.research.google.com/github/Rehan8894/Assignment_2.py-files/blob/main/task_2.ipynb\" target=\"_parent\"><img src=\"https://colab.research.google.com/assets/colab-badge.svg\" alt=\"Open In Colab\"/></a>"
      ]
    },
    {
      "cell_type": "code",
      "source": [
        "import requests\n",
        "\n",
        "def get_weather_data(city_name, api_key):\n",
        "    \"\"\"\n",
        "    Fetches and displays weather data for the given city.\n",
        "    \"\"\"\n",
        "    base_url = 'http://api.openweathermap.org/data/2.5/weather'\n",
        "    params = {\n",
        "        'q': city_name,\n",
        "        'appid': api_key,\n",
        "        'units': 'metric'\n",
        "    }\n",
        "\n",
        "    try:\n",
        "        response = requests.get(base_url, params=params)\n",
        "        data = response.json()\n",
        "\n",
        "        if response.status_code == 200:\n",
        "            print(f\"\\nWeather in {data['name']}, {data['sys']['country']}:\")\n",
        "            print(f\"Temperature: {data['main']['temp']}°C\")\n",
        "            print(f\"Weather: {data['weather'][0]['description'].capitalize()}\")\n",
        "            print(f\"Humidity: {data['main']['humidity']}%\")\n",
        "            print(f\"Wind Speed: {data['wind']['speed']} m/s\")\n",
        "        else:\n",
        "            print(f\"Error: {data['message']}\")\n",
        "    except Exception as e:\n",
        "        print(f\"Exception occurred: {e}\")\n",
        "\n",
        "# Example usage\n",
        "if __name__ == \"__main__\":\n",
        "    city = input(\"Enter city name: \")\n",
        "    api_key = input(\"Enter your OpenWeatherMap API key: \")\n",
        "    get_weather_data(city, api_key)"
      ],
      "metadata": {
        "id": "4m4cGuiXJEtR"
      },
      "execution_count": null,
      "outputs": []
    },
    {
      "cell_type": "code",
      "source": [],
      "metadata": {
        "id": "gCr6uJn7JT5q"
      },
      "execution_count": null,
      "outputs": []
    }
  ]
}